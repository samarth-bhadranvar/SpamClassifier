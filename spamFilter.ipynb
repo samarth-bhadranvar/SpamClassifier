{
 "cells": [
  {
   "cell_type": "code",
   "execution_count": 606,
   "metadata": {},
   "outputs": [],
   "source": [
    "import csv\n",
    "import pandas\n",
    "import numpy\n",
    "from sklearn.model_selection import train_test_split\n",
    "from sklearn.neighbors import KNeighborsClassifier\n",
    "from sklearn.metrics import accuracy_score\n",
    "import matplotlib.pyplot as plt\n",
    "from collections import Counter\n",
    "from sklearn.preprocessing import StandardScaler "
   ]
  },
  {
   "cell_type": "code",
   "execution_count": 607,
   "metadata": {},
   "outputs": [],
   "source": [
    "# Reading the Spambase Data Set from UCI Machine Learning repository\n",
    "df = pandas.read_csv('http://archive.ics.uci.edu/ml/machine-learning-databases/spambase/spambase.data',header=None)"
   ]
  },
  {
   "cell_type": "code",
   "execution_count": 609,
   "metadata": {
    "scrolled": true
   },
   "outputs": [],
   "source": [
    "#The First 57 columns of the data set will act as attributes for the KNN algorithm\n",
    "#The last column is the class (spam/not spam) for the node(data entry)\n",
    "\n",
    "attributes = df.iloc[:, 0:56].values\n",
    "classes = df.iloc[:, -1].values"
   ]
  },
  {
   "cell_type": "code",
   "execution_count": 610,
   "metadata": {},
   "outputs": [],
   "source": [
    "#For the purpose of development: Splitting the dataset into training and test test with ratio of 0.33\n",
    "\n",
    "attributes_train, attributes_test, classes_train, classes_test = train_test_split(attributes, classes, test_size=0.33, random_state=1)"
   ]
  },
  {
   "cell_type": "code",
   "execution_count": 611,
   "metadata": {},
   "outputs": [],
   "source": [
    "#For the purpose of development: scaling the dataset attributes\n",
    "\n",
    "scaler = StandardScaler()  \n",
    "scaler.fit(attributes_train)\n",
    "\n",
    "attributes_train = scaler.transform(attributes_train)  \n",
    "attributes_test = scaler.transform(attributes_test)"
   ]
  },
  {
   "cell_type": "code",
   "execution_count": 613,
   "metadata": {},
   "outputs": [],
   "source": [
    "# Implementation of K-nearest neighbour algorithm inside a method called predict\n",
    "# Methodname: predict \n",
    "# Inputs: takes the training set attributes, test set attributes and training set classes and the value of k\n",
    "# Returns: The class that is associated with the most number of neighbouring nodes \n",
    "\n",
    "def predict(attributes_train,attributes_test_item,classes_train,k):\n",
    "    \n",
    "    distances=[]\n",
    "    neighbours_classes=[]\n",
    "    \n",
    "    \n",
    "    #Calculating the euclidian distances between the test node and training nodes\n",
    "    for i in range(len(attributes_train)):\n",
    "        distance=numpy.sqrt(numpy.sum(numpy.square(attributes_test_item-attributes_train[i,:])))\n",
    "        \n",
    "        distances.append([distance,i])\n",
    "    \n",
    "    #Sorting the distances so as to later calculate the closest k neighbours\n",
    "    distances=sorted(distances)\n",
    "    \n",
    "    #Fetching the classes of closest k neighbours\n",
    "    for i in range(k):\n",
    "        index=distances[i][1] #fetching the index of the neighbour selected as a target\n",
    "        neighbours_classes.append(classes_train[index]) #the class of that neighbour\n",
    "    \n",
    "    #Fetching the most common class among the k neighbours\n",
    "    predicted_class= Counter(neighbours_classes).most_common(1)[0][0]\n",
    "    \n",
    "    return predicted_class"
   ]
  },
  {
   "cell_type": "code",
   "execution_count": 601,
   "metadata": {},
   "outputs": [],
   "source": [
    "# Predicting the classes of the nodes in test set\n",
    "# Predicted classes are stored in predictions array\n",
    "\n",
    "predictions=[]\n",
    "\n",
    "for i in range(len(attributes_test)):\n",
    "    predictions.append(predict(attributes_train,attributes_test[i,:],classes_train,1))\n",
    "    "
   ]
  },
  {
   "cell_type": "code",
   "execution_count": 602,
   "metadata": {},
   "outputs": [
    {
     "name": "stdout",
     "output_type": "stream",
     "text": [
      "0.9144173798551679\n"
     ]
    }
   ],
   "source": [
    "# Evaluation of the accuracy of predictions against test set classes\n",
    "print(accuracy_score(classes_test, predictions))"
   ]
  },
  {
   "cell_type": "code",
   "execution_count": 638,
   "metadata": {},
   "outputs": [
    {
     "name": "stdout",
     "output_type": "stream",
     "text": [
      "################\n",
      "Confusion Matrix\n",
      "[[854  52]\n",
      " [ 78 535]]\n",
      "################\n",
      "\n",
      "Classification report\n",
      "              precision    recall  f1-score   support\n",
      "\n",
      "           0       0.92      0.94      0.93       906\n",
      "           1       0.91      0.87      0.89       613\n",
      "\n",
      "   micro avg       0.91      0.91      0.91      1519\n",
      "   macro avg       0.91      0.91      0.91      1519\n",
      "weighted avg       0.91      0.91      0.91      1519\n",
      "\n"
     ]
    }
   ],
   "source": [
    "# Report generation\n",
    "\n",
    "from sklearn.metrics import classification_report, confusion_matrix \n",
    "print(\"################\")\n",
    "print(\"Confusion Matrix\")\n",
    "\n",
    "print(confusion_matrix(classes_test, predictions))  \n",
    "\n",
    "print(\"################\")\n",
    "print(\"\\nClassification report\")\n",
    "print(classification_report(classes_test, predictions))  "
   ]
  },
  {
   "cell_type": "code",
   "execution_count": 629,
   "metadata": {
    "collapsed": true
   },
   "source": [
    "# Finding the best possible value of k in the range 1 to 100\n",
    "# The K value which will cause the best accuracy rate will be selected\n",
    "\n",
    "accuracy = []\n",
    "\n",
    "# Calculating accuracies for K values between 1 and 100\n",
    "for i in range(1,100):  \n",
    "    pred_i=[]\n",
    "    for j in range(len(attributes_test)):\n",
    "        pred_i.append(predict(attributes_train,attributes_test[j,:],classes_train,i))\n",
    "    \n",
    "#     print(len(pred_i))\n",
    "\n",
    "    accuracy.append(accuracy_score(classes_test, pred_i))\n"
   ]
  },
  {
   "cell_type": "code",
   "execution_count": 631,
   "metadata": {},
   "outputs": [
    {
     "data": {
      "text/plain": [
       "Text(0, 0.5, 'accuracy')"
      ]
     },
     "execution_count": 631,
     "metadata": {},
     "output_type": "execute_result"
    },
    {
     "data": {
      "image/png": "[encoded data removed]",
      "text/plain": [
       "<Figure size 1440x720 with 1 Axes>"
      ]
     },
     "metadata": {
      "needs_background": "light"
     },
     "output_type": "display_data"
    }
   ],
   "source": [
    "# Plotting the line graph to see the trend of accuracy score for k values ranging from 1 to 100 using the accuracies calculated\n",
    "\n",
    "plt.figure(figsize=(20, 10))  \n",
    "plt.plot(range(1, 100), error, color='red', linestyle='dashed', marker='o',  \n",
    "         markerfacecolor='blue', markersize=5)\n",
    "plt.title('prediction accuracy range')  \n",
    "plt.xlabel('K Value')  \n",
    "# plt.ylabel('Mean Error')\n",
    "plt.ylabel('accuracy')  "
   ]
  },
  {
   "cell_type": "code",
   "execution_count": 634,
   "metadata": {},
   "outputs": [
    {
     "name": "stdout",
     "output_type": "stream",
     "text": [
      "##Fold report##\n",
      "Accuracy Score: 0.9131378935939196\n",
      "false positives: 31\n",
      "false negatives: 49\n",
      "error rate     : 0.08686210640608034\n",
      "\n",
      "\n",
      "##Fold report##\n",
      "Accuracy Score: 0.8989130434782608\n",
      "false positives: 48\n",
      "false negatives: 45\n",
      "error rate     : 0.10108695652173913\n",
      "\n",
      "\n",
      "##Fold report##\n",
      "Accuracy Score: 0.9021739130434783\n",
      "false positives: 43\n",
      "false negatives: 47\n",
      "error rate     : 0.09782608695652174\n",
      "\n",
      "\n",
      "##Fold report##\n",
      "Accuracy Score: 0.925\n",
      "false positives: 32\n",
      "false negatives: 37\n",
      "error rate     : 0.075\n",
      "\n",
      "\n",
      "##Fold report##\n",
      "Accuracy Score: 0.9065217391304348\n",
      "false positives: 43\n",
      "false negatives: 43\n",
      "error rate     : 0.09347826086956522\n",
      "\n",
      "\n"
     ]
    }
   ],
   "source": [
    "# Validation of the implementation \n",
    "# Method: k-fold cross-validation\n",
    "\n",
    "# For K fold validation, the K value is 5\n",
    "# The number of repeats is set to 1 to get clear idea of accuracy when nodes are exclusively in different folds\n",
    "from sklearn.model_selection import RepeatedKFold\n",
    "rkf = RepeatedKFold(n_splits=5, n_repeats=1, random_state=3)\n",
    "\n",
    "false_positives=[]\n",
    "false_negatives=[]\n",
    "error_rates=[]\n",
    "\n",
    "#For each fold\n",
    "for train_index, test_index in rkf.split(attributes):\n",
    "    attributes_train2, attributes_test2, classes_train2, classes_test2 = attributes[train_index], attributes[test_index], classes[train_index], classes[test_index]\n",
    "    \n",
    "    #scaling the attibutes\n",
    "    scaler = StandardScaler()  \n",
    "    scaler.fit(attributes_train2)\n",
    "    attributes_train = scaler.transform(attributes_train2)  \n",
    "    attributes_test = scaler.transform(attributes_test2)\n",
    "    \n",
    "    predictions2=[]\n",
    "    \n",
    "    #predictions of classes using KNN\n",
    "    for i in range(len(attributes_test)):\n",
    "        predictions2.append(predict(attributes_train2,attributes_test2[i,:],classes_train2,4))\n",
    "    \n",
    "    #Printing the accuracy score, False postives and negatives and error rates for each fold\n",
    "    print(\"##Fold report##\")\n",
    "    print(\"Accuracy Score:\",accuracy_score(classes_test2, predictions2))\n",
    "#   print(confusion_matrix(classes_test2, predictions2))\n",
    "    confusionMatrix=confusion_matrix(classes_test2, predictions2)\n",
    "    print(\"false positives:\",confusionMatrix[0][1])\n",
    "    print(\"false negatives:\",confusionMatrix[1][0])\n",
    "    print(\"error rate     :\",(confusionMatrix[0][1]+confusionMatrix[1][0])/len(attributes_test2))\n",
    "    false_positives.append(confusionMatrix[0][1])\n",
    "    false_negatives.append(confusionMatrix[1][0])\n",
    "    error_rates.append((confusionMatrix[0][1]+confusionMatrix[1][0])/len(attributes_test2))\n",
    "    print(\"\\n\")\n",
    "    \n",
    "\n",
    "    \n"
   ]
  },
  {
   "cell_type": "code",
   "execution_count": 635,
   "metadata": {},
   "outputs": [
    {
     "name": "stdout",
     "output_type": "stream",
     "text": [
      "                     Fold1      Fold2      Fold3   Fold4      Fold5\n",
      "false positives  31.000000  48.000000  43.000000  32.000  43.000000\n",
      "false negatives  49.000000  45.000000  47.000000  37.000  43.000000\n",
      "error rate        0.086862   0.101087   0.097826   0.075   0.093478\n"
     ]
    }
   ],
   "source": [
    "# Evaluation of results\n",
    "\n",
    "data=[]\n",
    "\n",
    "data.append(false_positives)\n",
    "data.append(false_negatives)\n",
    "data.append(error_rates)\n",
    "\n",
    "report = pandas.DataFrame(data=data,index=['false positives','false negatives','error rate'],columns=['Fold1','Fold2','Fold3','Fold4','Fold5'])\n",
    "\n",
    "print(report)\n",
    "\n"
   ]
  }
 ],
 "metadata": {
  "kernelspec": {
   "display_name": "Python 3",
   "language": "python",
   "name": "python3"
  },
  "language_info": {
   "codemirror_mode": {
    "name": "ipython",
    "version": 3
   },
   "file_extension": ".py",
   "mimetype": "text/x-python",
   "name": "python",
   "nbconvert_exporter": "python",
   "pygments_lexer": "ipython3",
   "version": "3.7.3"
  }
 },
 "nbformat": 4,
 "nbformat_minor": 2
}
